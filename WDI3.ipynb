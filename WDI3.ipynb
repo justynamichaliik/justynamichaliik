{
  "nbformat": 4,
  "nbformat_minor": 0,
  "metadata": {
    "colab": {
      "provenance": [],
      "authorship_tag": "ABX9TyN5hbv+Dl6EPKN2VQR3hOTi",
      "include_colab_link": true
    },
    "kernelspec": {
      "name": "python3",
      "display_name": "Python 3"
    },
    "language_info": {
      "name": "python"
    }
  },
  "cells": [
    {
      "cell_type": "markdown",
      "metadata": {
        "id": "view-in-github",
        "colab_type": "text"
      },
      "source": [
        "<a href=\"https://colab.research.google.com/github/justynamichaliik/justynamichaliik/blob/main/WDI3.ipynb\" target=\"_parent\"><img src=\"https://colab.research.google.com/assets/colab-badge.svg\" alt=\"Open In Colab\"/></a>"
      ]
    },
    {
      "cell_type": "markdown",
      "source": [],
      "metadata": {
        "id": "i5NVvlLatLKc"
      }
    },
    {
      "cell_type": "code",
      "source": [
        "%%writefile plik.py\n",
        "import random\n",
        "\n",
        "class Ciagi:\n",
        "    def __init__(self, tablica=None):\n",
        "        if tablica is None:\n",
        "            self.tablica = [random.randint(1, 10) for j in range(10)]\n",
        "        else:\n",
        "            self.tablica = tablica\n",
        "\n",
        "    def __str__(self):\n",
        "        return str(self.tablica)\n",
        "\n",
        "    def roznice(self):\n",
        "        return [self.tablica[x + 1] - self.tablica[x] for x in range(len(self.tablica) - 1)]\n",
        "\n",
        "    def ilorazy(self):\n",
        "        ilorazy = []\n",
        "        for x in range(len(self.tablica) - 1):\n",
        "             ilorazy.append(self.tablica[x + 1] / self.tablica[x])\n",
        "        return ilorazy\n",
        "\n",
        "    def policz_arytmetyczne(self):\n",
        "        roznice = self.roznice()\n",
        "        ile_a = 0\n",
        "        dlugosc = 1\n",
        "        for i in range(1, len(roznice)):\n",
        "            if roznice[i] == roznice[i - 1]:\n",
        "                dlugosc += 1\n",
        "            else:\n",
        "                dlugosc = 1\n",
        "            if dlugosc == 3:\n",
        "                ile_a += 1\n",
        "        return ile_a\n",
        "\n",
        "    def policz_geometryczne(self):\n",
        "        ilorazy = self.ilorazy()\n",
        "        ile_g = 0\n",
        "        dlugosc = 1\n",
        "        for i in range(1, len(ilorazy)):\n",
        "            if ilorazy[i] == ilorazy[i - 1]:\n",
        "                dlugosc += 1\n",
        "            else:\n",
        "                dlugosc = 1\n",
        "            if dlugosc == 3:\n",
        "                ile_g += 1\n",
        "        return ile_g\n",
        "\n",
        "    def analizuj(self):\n",
        "        ile_a = self.policz_arytmetyczne()\n",
        "        ile_g = self.policz_geometryczne()\n",
        "\n",
        "        if ile_a > ile_g:\n",
        "            return 1\n",
        "        elif ile_a == ile_g:\n",
        "            return 0\n",
        "        else:\n",
        "            return -1\n"
      ],
      "metadata": {
        "colab": {
          "base_uri": "https://localhost:8080/"
        },
        "id": "ISptp3LptKQu",
        "outputId": "29b74aa4-deac-4223-ef56-663a72720227"
      },
      "execution_count": null,
      "outputs": [
        {
          "output_type": "stream",
          "name": "stdout",
          "text": [
            "Overwriting plik.py\n"
          ]
        }
      ]
    },
    {
      "cell_type": "markdown",
      "source": [],
      "metadata": {
        "id": "i_PbWLYmtLN2"
      }
    },
    {
      "cell_type": "markdown",
      "source": [],
      "metadata": {
        "id": "n_ISwwILwCGi"
      }
    },
    {
      "cell_type": "code",
      "source": [
        "import pytest\n",
        "from plik import Ciagi\n",
        "\n",
        "def test_wyniku():\n",
        "    aryt = [1, 2, 3, 4, 5]\n",
        "    wynik = Ciagi(aryt).analizuj()\n",
        "    assert wynik == 1\n",
        "\n",
        "def test_nie_rowne_wyniki():\n",
        "    aryt = [5, 10, 15, 20]\n",
        "    geo = [2, 4, 8, 16]\n",
        "    analizator_aryt = Ciagi(aryt)\n",
        "    analizator_geo = Ciagi(geo)\n",
        "    assert analizator_aryt.analizuj() != analizator_geo.analizuj()\n",
        "\n",
        "def test_dzielenie_przez_zero():\n",
        "    geo = [3, 1, 0, 6]\n",
        "    with pytest.raises(ZeroDivisionError):\n",
        "        Ciagi(geo).analizuj()\n",
        "\n",
        "# Uruchamianie testów\n",
        "def test_all():\n",
        "    test_dzielenie_przez_zero()\n",
        "    test_wyniku()\n",
        "    test_nie_rowne_wyniki()\n",
        "\n",
        "test_all()"
      ],
      "metadata": {
        "id": "5po69mEDtKMr"
      },
      "execution_count": null,
      "outputs": []
    },
    {
      "cell_type": "markdown",
      "source": [],
      "metadata": {
        "id": "nfz8wpLKtLIm"
      }
    },
    {
      "cell_type": "code",
      "execution_count": null,
      "metadata": {
        "colab": {
          "base_uri": "https://localhost:8080/"
        },
        "id": "WVNqbLles98c",
        "outputId": "ba56e3ef-ef07-48d9-fcbb-ab36e30028dc"
      },
      "outputs": [
        {
          "output_type": "stream",
          "name": "stderr",
          "text": [
            "test_nierownosc (__main__.testyCiagi) ... ok\n",
            "test_wyjatek (__main__.testyCiagi) ... ok\n",
            "test_wyniku (__main__.testyCiagi) ... ok\n",
            "\n",
            "----------------------------------------------------------------------\n",
            "Ran 3 tests in 0.016s\n",
            "\n",
            "OK\n"
          ]
        }
      ],
      "source": [
        "import unittest\n",
        "from plik import Ciagi\n",
        "\n",
        "class testyCiagi(unittest.TestCase):\n",
        "\n",
        "    def test_wyniku(self):\n",
        "        aryt = [1, 2, 3, 4, 5]\n",
        "        wynik = Ciagi(aryt).analizuj()\n",
        "        self.assertEqual(wynik, 1)\n",
        "\n",
        "    def test_wyjatek(self):\n",
        "        with self.assertRaises(ZeroDivisionError):\n",
        "            ciag = [1, 8, 64, 0, 13]\n",
        "            Ciagi(ciag).ilorazy()\n",
        "\n",
        "    def test_nierownosc(self):\n",
        "        ciag = [1, 23, 4, 515, 123, 1, 2, 3, 4, 5, 10, 20]\n",
        "        obj = Ciagi(ciag)\n",
        "        ilorazy = obj.ilorazy()\n",
        "        roznice = obj.roznice()\n",
        "        self.assertNotEqual(ilorazy, roznice)\n",
        "\n",
        "if __name__ == '__main__':\n",
        "    unittest.main(argv=[''], verbosity=2, exit=False)"
      ]
    }
  ]
}